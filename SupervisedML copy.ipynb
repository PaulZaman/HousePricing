{
 "cells": [
  {
   "attachments": {},
   "cell_type": "markdown",
   "metadata": {},
   "source": [
    "# DATA SCIENCE PROJECT - Supervised Machine Learning\n",
    "## Antoine GOULARD - Reda FALAKI - Capucine FOUCHER"
   ]
  },
  {
   "attachments": {},
   "cell_type": "markdown",
   "metadata": {},
   "source": [
    "### Importing libraries"
   ]
  },
  {
   "cell_type": "code",
   "execution_count": null,
   "metadata": {},
   "outputs": [],
   "source": [
    "import pandas as pd\n",
    "from sklearn.model_selection import train_test_split\n",
    "from sklearn.linear_model import LinearRegression  # Replace with your chosen regression algorithm\n",
    "from sklearn.metrics import mean_squared_error, r2_score\n"
   ]
  },
  {
   "attachments": {},
   "cell_type": "markdown",
   "metadata": {},
   "source": [
    "### Step 1 - Load the cleaned data"
   ]
  },
  {
   "cell_type": "code",
   "execution_count": null,
   "metadata": {},
   "outputs": [],
   "source": [
    "X = pd.read_csv('X.csv')\n",
    "y = pd.read_csv('y.csv')"
   ]
  },
  {
   "attachments": {},
   "cell_type": "markdown",
   "metadata": {},
   "source": [
    "### Step 2 - Split the data into training and testing sets"
   ]
  },
  {
   "cell_type": "code",
   "execution_count": null,
   "metadata": {},
   "outputs": [],
   "source": [
    "# Split the data into training/testing sets\n",
    "X_train, X_test, y_train, y_test = train_test_split(X, y, test_size=0.2)"
   ]
  },
  {
   "attachments": {},
   "cell_type": "markdown",
   "metadata": {},
   "source": [
    "### Step 3 - Choose a regression algorithm and create an instance of the algorithm with desired parameters:"
   ]
  },
  {
   "cell_type": "code",
   "execution_count": null,
   "metadata": {},
   "outputs": [],
   "source": [
    "# Initialize the linear regression model\n",
    "LinearRegression = LinearRegression()\n",
    "# Initialize the Random Forest regressor\n",
    "rf_regressor = RandomForestRegressor(n_estimators=100, random_state=42)"
   ]
  },
  {
   "attachments": {},
   "cell_type": "markdown",
   "metadata": {},
   "source": [
    "### Step 4 - Fit the model to the training data:\n"
   ]
  },
  {
   "cell_type": "code",
   "execution_count": null,
   "metadata": {},
   "outputs": [],
   "source": [
    "# Train the model on the training set\n",
    "LinearRegression.fit(X_train, y_train)\n",
    "rf_regressor.fit(X_train, y_train)"
   ]
  },
  {
   "attachments": {},
   "cell_type": "markdown",
   "metadata": {},
   "source": [
    "### Step 5 - Make predictions on the test data"
   ]
  },
  {
   "cell_type": "code",
   "execution_count": null,
   "metadata": {},
   "outputs": [],
   "source": [
    "# Make predictions on the test set\n",
    "predictions_LR = LinearRegression.predict(X_test)\n",
    "predictions_RF = rf_regressor.predict(X_test)"
   ]
  },
  {
   "attachments": {},
   "cell_type": "markdown",
   "metadata": {},
   "source": [
    "### Step 6 - Evaluate the model's performance"
   ]
  },
  {
   "cell_type": "code",
   "execution_count": null,
   "metadata": {},
   "outputs": [],
   "source": [
    "# Evaluate the model Linear Regression\n",
    "mse_LR = mean_squared_error(y_test, predictions_LR)\n",
    "rmse_LR = np.sqrt(ms_LR)\n",
    "mae_LR = mean_absolute_error(y_test, predictions_LR)\n",
    "r2_LR = r2_score(y_test, predictions_LR)\n",
    "\n",
    "# Evaluate the model Random Forest\n",
    "mse_RF = mean_squared_error(y_test, predictions_RF)\n",
    "rmse_RF = np.sqrt(mse_RF)\n",
    "mae_RF = mean_absolute_error(y_test, predictions_RF)\n",
    "r2_RF = r2_score(y_test, predictions_RF)"
   ]
  },
  {
   "cell_type": "code",
   "execution_count": null,
   "metadata": {},
   "outputs": [],
   "source": [
    "# Print the evaluation metrics\n",
    "print(\"Mean Squared Error:\", mse_LR)\n",
    "print(\"Root Mean Squared Error:\", rmse_LR)\n",
    "print(\"Mean Absolute Error:\", mae_LR)\n",
    "print(\"R^2 Score:\", r2_LR)\n",
    "\n",
    "# Print the evaluation metrics\n",
    "print(\"Mean Squared Error:\", mse_RF)\n",
    "print(\"Root Mean Squared Error:\", rmse_RF)\n",
    "print(\"Mean Absolute Error:\", mae_RF)\n",
    "print(\"R^2 Score:\", r2_RF)"
   ]
  },
  {
   "cell_type": "code",
   "execution_count": null,
   "metadata": {},
   "outputs": [],
   "source": [
    "# Create a list of the metric names and values\n",
    "metric_names = ['MSE', 'RMSE', 'MAE', 'R^2']\n",
    "metric_values_LR = [mse_LR, rmse_LR, mae_LR, r2_LR]\n",
    "metric_values_RF = [mse_RF, rmse_RF, mae_RF, r2_RF]\n",
    "\n",
    "# Plot the evaluation metrics\n",
    "plt.figure(figsize=(8, 6))\n",
    "plt.bar(metric_names, metric_values_LR)\n",
    "plt.xlabel('Evaluation Metric')\n",
    "plt.ylabel('Value')\n",
    "plt.title('Model Evaluation Metrics for Linear Regression')\n",
    "plt.show()\n",
    "\n",
    "# Plot the evaluation metrics\n",
    "plt.figure(figsize=(8, 6))\n",
    "plt.bar(metric_names, metric_values_RF)\n",
    "plt.xlabel('Evaluation Metric')\n",
    "plt.ylabel('Value')\n",
    "plt.title('Model Evaluation Metrics for Random Forest Regression')\n",
    "plt.show()"
   ]
  },
  {
   "attachments": {},
   "cell_type": "markdown",
   "metadata": {},
   "source": [
    "#### Step 7 - Results"
   ]
  },
  {
   "cell_type": "code",
   "execution_count": null,
   "metadata": {},
   "outputs": [],
   "source": [
    "# Plot the predictions vs the actual values as a scatter plot\n",
    "\n",
    "plt.figure(figsize=(8, 6))\n",
    "plt.scatter(y_test, predictions_LR)\n",
    "plt.xlabel('Actual Labels')\n",
    "plt.ylabel('Predicted Labels')\n",
    "plt.title('Predictions vs Actuals Linear Regression')\n",
    "plt.show()\n",
    "\n",
    "\n",
    "plt.figure(figsize=(8, 6))\n",
    "plt.scatter(y_test, predictions_RF)\n",
    "plt.xlabel('Actual Labels')\n",
    "plt.ylabel('Predicted Labels')\n",
    "plt.title('Predictions vs Actuals Random Forest')\n",
    "plt.show()"
   ]
  },
  {
   "attachments": {},
   "cell_type": "markdown",
   "metadata": {},
   "source": [
    "### Step 8 - Choice of the most effiecient model"
   ]
  },
  {
   "cell_type": "code",
   "execution_count": null,
   "metadata": {},
   "outputs": [],
   "source": [
    "best_predictions = [\"-----------------------------------------------------------------------------------------------------------\"]"
   ]
  },
  {
   "attachments": {},
   "cell_type": "markdown",
   "metadata": {},
   "source": [
    "### Step 9 - Save the prediction results to a csv file"
   ]
  },
  {
   "cell_type": "code",
   "execution_count": null,
   "metadata": {},
   "outputs": [],
   "source": [
    "best_predictions.to_csv('predictions.csv', index=False)"
   ]
  }
 ],
 "metadata": {
  "language_info": {
   "name": "python"
  },
  "orig_nbformat": 4
 },
 "nbformat": 4,
 "nbformat_minor": 2
}
