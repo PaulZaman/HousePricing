{
 "cells": [
  {
   "attachments": {},
   "cell_type": "markdown",
   "id": "ce8b8f8c",
   "metadata": {},
   "source": [
    "# DATA SCIENCE PROJECT\n",
    "## Data Preperation\n",
    "\n",
    "Before we can start with the actual data analysis, we need to prepare the data. Indeed this is a crucial step in data analysis and prediction. Without a good data preparation, the results of the analysis will be biased and the prediction will be wrong. Therefore, we start by importing the correct libraries in order to be able to perform the data preparation. Then, we import the data and we start by cleaning the data."
   ]
  },
  {
   "attachments": {},
   "cell_type": "markdown",
   "id": "04a5a0c2",
   "metadata": {},
   "source": [
    "### Importing libraries"
   ]
  },
  {
   "cell_type": "code",
   "execution_count": 34,
   "id": "98f35a3c",
   "metadata": {},
   "outputs": [],
   "source": [
    "import pandas as pd\n",
    "import seaborn as sns\n",
    "import matplotlib.pyplot as plt\n",
    "import numpy as np\n",
    "from sklearn.model_selection import GridSearchCV\n",
    "from sklearn.metrics import make_scorer"
   ]
  },
  {
   "attachments": {},
   "cell_type": "markdown",
   "id": "ef17d3cd",
   "metadata": {},
   "source": [
    "### Step 1 - Loading the data\n",
    "\n",
    "Here we load the data from the csv file. We use the pandas library to do this. We also print the first 5 rows of the data to get an idea of what the data looks like. Since the data is the same for each year, we only load the data of 2022. All of the data is the same in each file. we will use this data to create a function called **prepare_data** that will be used to prepare the data for each year."
   ]
  },
  {
   "cell_type": "code",
   "execution_count": 35,
   "id": "7f979e76",
   "metadata": {},
   "outputs": [],
   "source": [
    "# Load datas in the txt files in Data folder and make a dataframe out of it\n",
    "df = pd.read_csv(\"Data/valeursfoncieres-2022.txt\", sep=\"|\", low_memory=False)"
   ]
  },
  {
   "attachments": {},
   "cell_type": "markdown",
   "id": "dd41e200",
   "metadata": {},
   "source": [
    "Let's display all the columns of the data."
   ]
  },
  {
   "cell_type": "code",
   "execution_count": 36,
   "id": "ef121e35",
   "metadata": {},
   "outputs": [
    {
     "name": "stdout",
     "output_type": "stream",
     "text": [
      "Index(['Identifiant de document', 'Reference document', '1 Articles CGI',\n",
      "       '2 Articles CGI', '3 Articles CGI', '4 Articles CGI', '5 Articles CGI',\n",
      "       'No disposition', 'Date mutation', 'Nature mutation', 'Valeur fonciere',\n",
      "       'No voie', 'B/T/Q', 'Type de voie', 'Code voie', 'Voie', 'Code postal',\n",
      "       'Commune', 'Code departement', 'Code commune', 'Prefixe de section',\n",
      "       'Section', 'No plan', 'No Volume', '1er lot',\n",
      "       'Surface Carrez du 1er lot', '2eme lot', 'Surface Carrez du 2eme lot',\n",
      "       '3eme lot', 'Surface Carrez du 3eme lot', '4eme lot',\n",
      "       'Surface Carrez du 4eme lot', '5eme lot', 'Surface Carrez du 5eme lot',\n",
      "       'Nombre de lots', 'Code type local', 'Type local', 'Identifiant local',\n",
      "       'Surface reelle bati', 'Nombre pieces principales', 'Nature culture',\n",
      "       'Nature culture speciale', 'Surface terrain'],\n",
      "      dtype='object')\n"
     ]
    }
   ],
   "source": [
    "print((df.columns))"
   ]
  },
  {
   "attachments": {},
   "cell_type": "markdown",
   "id": "57cfb40e",
   "metadata": {},
   "source": [
    "Let's start by analysing all columns types and values.\n",
    "| Variable Name                | Type         | Description                                                                                                   |\n",
    "|------------------------------|--------------|---------------------------------------------------------------------------------------------------------------|\n",
    "| Identifiant de document      | Numeric      | Unique identifier for each document in the dataset.                                                           |\n",
    "| Reference document           | Numeric      | Reference document associated with the transaction.                                                           |\n",
    "| 1 Articles CGI               | Text         | First reference to the articles of the French General Tax Code (CGI) related to the transaction.             |\n",
    "| 2 Articles CGI               | Text         | Second reference to the articles of the French General Tax Code (CGI) related to the transaction.            |\n",
    "| 3 Articles CGI               | Text         | Third reference to the articles of the French General Tax Code (CGI) related to the transaction.             |\n",
    "| 4 Articles CGI               | Text         | Fourth reference to the articles of the French General Tax Code (CGI) related to the transaction.            |\n",
    "| 5 Articles CGI               | Text         | Fifth reference to the articles of the French General Tax Code (CGI) related to the transaction.             |\n",
    "| No disposition               | Numeric      | Disposition number associated with the transaction.                                                           |\n",
    "| Date mutation                | Date/Time    | Date when the transaction/mutation took place.                                                                 |\n",
    "| Nature mutation              | Text         | Nature of the transaction, such as sale, inheritance, donation, etc.                                          |\n",
    "| Valeur fonciere              | Numeric      | Property value, i.e., the amount of money involved in the transaction.                                        |\n",
    "| No voie                      | Numeric      | Street number of the property.                                                                                |\n",
    "| B/T/Q                        | Text         | Building/Tower/Block identifier, if applicable.                                                               |\n",
    "| Type de voie                 | Text         | Type of road, such as street, avenue, boulevard, etc.                                                         |\n",
    "| Code voie                    | Numeric      | Code associated with the road.                                                                                 |\n",
    "| Voie                         | Text         | Name of the road.                                                                                             |\n",
    "| Code postal                  | Numeric      | Postal code of the property.                                                                                   |\n",
    "| Commune                      | Text         | Name of the municipality where the property is located.                                                        |\n",
    "| Code departement             | Numeric      | Code associated with the department where the property is located.                                             |\n",
    "| Code commune                 | Numeric      | Code associated with the municipality where the property is located.                                           |\n",
    "| Prefixe de section           | Numeric      | Prefix of the section where the property is located.                                                           |\n",
    "| Section                      | Text         | Section where the property is located.                                                                         |\n",
    "| No plan                      | Numeric      | Plan number associated with the property.                                                                      |\n",
    "| No Volume                    | Numeric      | Volume number associated with the property.                                                                    |\n",
    "| 1er lot                      | Numeric      | First lot associated with the property.                                                                        |\n",
    "| Surface Carrez du 1er lot    | Numeric      | Carrez surface (official living area) of the first lot.                                                        |\n",
    "| 2eme lot                     | Numeric      | Second lot associated with the property.                                                                       |\n",
    "| Surface Carrez du 2eme lot   | Numeric      | Carrez surface (official living area) of the second lot.                                                       |\n",
    "| 3eme lot                     | Numeric      | Third lot associated with the property.                                                                        |\n",
    "| Surface Carrez du 3eme lot   | Numeric      | Carrez surface (official living area) of the third lot.                                                        |\n",
    "| 4eme lot                     | Numeric      | Fourth lot associated with the property.                                                                       |\n",
    "| Surface Carrez du 4eme lot   | Numeric      | Carrez surface (official living area) of the fourth lot.                                                       |\n",
    "| 5eme lot                     | Numeric      | Fifth lot associated with the property.                                                                        |\n",
    "| Surface Carrez du 5eme lot   | Numeric      | Carrez surface (official living area) of the fifth lot.                                                        |\n",
    "| Nombre de lots               | Numeric      | Number of lots associated with the property.                                                                   |\n",
    "| Code type local              | Numeric      | Code representing the type of property (apartment, house, etc.).                                               |\n",
    "| Type local                   | Text         | Type of property (apartment, house, etc.).                                                                     |\n",
    "| Identifiant local            | Numeric      | Local identifier associated with the property.                                                                 |\n",
    "| Surface reelle bati          | Numeric      | Actual built-up area of the property.                                                                          |\n",
    "| Nombre pieces principales    | Numeric      | Number of main rooms in the property.                                                                          |\n",
    "| Nature culture               | Text         | Type of cultivated land associated with the property.                                                          |\n",
    "| Nature                        | ???          | The description provided in the input is cut-off here.   |\n",
    "\n"
   ]
  },
  {
   "attachments": {},
   "cell_type": "markdown",
   "id": "a251d9cd",
   "metadata": {},
   "source": [
    "## Step 2 - Data cleaning"
   ]
  },
  {
   "attachments": {},
   "cell_type": "markdown",
   "id": "418c3ac3",
   "metadata": {},
   "source": [
    "### Step 2.1 - Missing values\n",
    "\n",
    "##### The goal here is not to have missing values anymore. But, we cannot do this by dropping the rows and columns that it concerns because we would loose to much data and maybe even the meaning of this very data. So we will adapt to the meaning of each column and rows the value that should be there.\n",
    "\n",
    "##### For example in the column 'Surface Carrez du 5eme lot', if there is no value, it means that there is no 5th lot. So we will replace the NaN values by 0."
   ]
  },
  {
   "attachments": {},
   "cell_type": "markdown",
   "id": "4e543e75",
   "metadata": {},
   "source": [
    "In the following code, we will see the percentage of missing values for each column."
   ]
  },
  {
   "cell_type": "code",
   "execution_count": 37,
   "id": "d4dfea5e",
   "metadata": {},
   "outputs": [
    {
     "data": {
      "image/png": "[encoded data removed]",
      "text/plain": [
       "<Figure size 640x480 with 1 Axes>"
      ]
     },
     "metadata": {},
     "output_type": "display_data"
    }
   ],
   "source": [
    "missing_values_count = df.isnull().sum() / len(df) * 100\n",
    "\n",
    "# bar plot the missing values\n",
    "plt.figure()\n",
    "plt.title('Missing values')\n",
    "missing_values_count.plot.bar()\n",
    "plt.show()"
   ]
  },
  {
   "attachments": {},
   "cell_type": "markdown",
   "id": "a1b009d0",
   "metadata": {},
   "source": [
    "By examining the percentages of missing values, we can firstly remove all columns that have 100% of missing values. "
   ]
  },
  {
   "cell_type": "code",
   "execution_count": 38,
   "id": "4880b041",
   "metadata": {},
   "outputs": [
    {
     "data": {
      "image/png": "[encoded data removed]",
      "text/plain": [
       "<Figure size 640x480 with 1 Axes>"
      ]
     },
     "metadata": {},
     "output_type": "display_data"
    }
   ],
   "source": [
    "# Drop columns with 100% missing values\n",
    "df = df.dropna(axis=1, how='all')\n",
    "\n",
    "missing_values_count = df.isnull().sum() / len(df) * 100\n",
    "\n",
    "# bar plot the missing values\n",
    "plt.figure()\n",
    "plt.title('Missing values')\n",
    "missing_values_count.plot.bar()\n",
    "plt.show()\n"
   ]
  },
  {
   "attachments": {},
   "cell_type": "markdown",
   "id": "15108682",
   "metadata": {},
   "source": [
    "As we can see, we have removed all 5 first columns. Now let's examine the type of other columns that have missing values."
   ]
  },
  {
   "cell_type": "code",
   "execution_count": 39,
   "metadata": {},
   "outputs": [
    {
     "name": "stdout",
     "output_type": "stream",
     "text": [
      "Columns with missing values:\n",
      "                                           Column Name Data Type  \\\n",
      "Valeur fonciere                        Valeur fonciere    object   \n",
      "No voie                                        No voie   float64   \n",
      "B/T/Q                                            B/T/Q    object   \n",
      "Type de voie                              Type de voie    object   \n",
      "Code voie                                    Code voie    object   \n",
      "Voie                                              Voie    object   \n",
      "Code postal                                Code postal   float64   \n",
      "Prefixe de section                  Prefixe de section   float64   \n",
      "Section                                        Section    object   \n",
      "No Volume                                    No Volume    object   \n",
      "1er lot                                        1er lot    object   \n",
      "Surface Carrez du 1er lot    Surface Carrez du 1er lot    object   \n",
      "2eme lot                                      2eme lot    object   \n",
      "Surface Carrez du 2eme lot  Surface Carrez du 2eme lot    object   \n",
      "3eme lot                                      3eme lot    object   \n",
      "Surface Carrez du 3eme lot  Surface Carrez du 3eme lot    object   \n",
      "4eme lot                                      4eme lot   float64   \n",
      "Surface Carrez du 4eme lot  Surface Carrez du 4eme lot    object   \n",
      "5eme lot                                      5eme lot   float64   \n",
      "Surface Carrez du 5eme lot  Surface Carrez du 5eme lot    object   \n",
      "Code type local                        Code type local   float64   \n",
      "Type local                                  Type local    object   \n",
      "Surface reelle bati                Surface reelle bati   float64   \n",
      "Nombre pieces principales    Nombre pieces principales   float64   \n",
      "Nature culture                          Nature culture    object   \n",
      "Nature culture speciale        Nature culture speciale    object   \n",
      "Surface terrain                        Surface terrain   float64   \n",
      "\n",
      "                            Missing Values  \n",
      "Valeur fonciere                      24721  \n",
      "No voie                            1321227  \n",
      "B/T/Q                              3627918  \n",
      "Type de voie                       1406840  \n",
      "Code voie                            39043  \n",
      "Voie                                 39153  \n",
      "Code postal                          39173  \n",
      "Prefixe de section                 3645046  \n",
      "Section                                155  \n",
      "No Volume                          3794976  \n",
      "1er lot                            2534572  \n",
      "Surface Carrez du 1er lot          3436147  \n",
      "2eme lot                           3405819  \n",
      "Surface Carrez du 2eme lot         3679945  \n",
      "3eme lot                           3732930  \n",
      "Surface Carrez du 3eme lot         3790026  \n",
      "4eme lot                           3781161  \n",
      "Surface Carrez du 4eme lot         3800533  \n",
      "5eme lot                           3794152  \n",
      "Surface Carrez du 5eme lot         3802648  \n",
      "Code type local                    1518453  \n",
      "Type local                         1518453  \n",
      "Surface reelle bati                1520542  \n",
      "Nombre pieces principales          1520542  \n",
      "Nature culture                     1286889  \n",
      "Nature culture speciale            3649229  \n",
      "Surface terrain                    1286889  \n"
     ]
    }
   ],
   "source": [
    "missing_values = df.isnull().sum()\n",
    "missing_columns = missing_values[missing_values > 0]\n",
    "missing_columns_table = pd.DataFrame({\n",
    "    'Column Name': missing_columns.index,\n",
    "    'Data Type': df.dtypes[missing_columns.index],\n",
    "    'Missing Values': missing_columns.values\n",
    "})\n",
    "\n",
    "print(\"Columns with missing values:\")\n",
    "print(missing_columns_table)\n"
   ]
  },
  {
   "attachments": {},
   "cell_type": "markdown",
   "id": "1b2b1841",
   "metadata": {},
   "source": [
    "All Right, as we can see, this data is extreamly dirty, many missing values, many categorical data, many numerical data, many data that are not in the right format. We will have to clean it all. Let's do this variable per variable to obtain a clean dataset.\n",
    "\n",
    "##### Valeur foncière\n",
    "\n",
    "First, we will start with \"Valeur fonciere\" which is the target variable. We will remove all rows that have a missing value for this variable."
   ]
  },
  {
   "cell_type": "code",
   "execution_count": 40,
   "metadata": {},
   "outputs": [],
   "source": [
    "# Remove rows with missing values for the columns 'Valeur fonciere'\n",
    "df = df.dropna(subset=['Valeur fonciere'])"
   ]
  },
  {
   "attachments": {},
   "cell_type": "markdown",
   "id": "fa658841",
   "metadata": {},
   "source": [
    "##### No Voie\n",
    "We will also delete the column No Voie because we believe that it is not relevant for our analysis."
   ]
  },
  {
   "cell_type": "code",
   "execution_count": 41,
   "id": "61b43750",
   "metadata": {},
   "outputs": [],
   "source": [
    "# delete column 'No Voie'\n",
    "df = df.drop(['No voie'], axis=1)"
   ]
  },
  {
   "attachments": {},
   "cell_type": "markdown",
   "id": "ae3aac68",
   "metadata": {},
   "source": [
    "##### B/T/Q\n",
    "\n",
    "We have had a hard time understanding this variable, indeed the documents says it corresponds to the \"indice de répétition\". The values contained are categorical, but we do not know what they mean. We have tried to find the meaning of these values but we have not succeeded. We have therefore decided to delete this column.\n"
   ]
  },
  {
   "cell_type": "code",
   "execution_count": 42,
   "id": "083d970c",
   "metadata": {},
   "outputs": [],
   "source": [
    "# delete column B/T/Q\n",
    "df = df.drop(['B/T/Q'], axis=1)"
   ]
  },
  {
   "attachments": {},
   "cell_type": "markdown",
   "id": "47aa00fd",
   "metadata": {},
   "source": [
    "##### Type de voie\n",
    "\n",
    "The variable seems important in the prediction of the target variable. We will therefore keep it. However, we will have to transform it into a numerical variable. First let's see what are the different categories of this variable."
   ]
  },
  {
   "cell_type": "code",
   "execution_count": 43,
   "id": "c08f968b",
   "metadata": {},
   "outputs": [
    {
     "name": "stdout",
     "output_type": "stream",
     "text": [
      "Type de voie\n",
      "RUE     1357055\n",
      "AV       308881\n",
      "RTE      151665\n",
      "CHE      133760\n",
      "BD       100452\n",
      "         ...   \n",
      "ZUP           1\n",
      "EMBR          1\n",
      "RULT          1\n",
      "CIVE          1\n",
      "DEVI          1\n",
      "Name: count, Length: 134, dtype: int64\n"
     ]
    }
   ],
   "source": [
    "# see categories of the column 'Type de voie'\n",
    "print(df['Type de voie'].value_counts())"
   ]
  },
  {
   "attachments": {},
   "cell_type": "markdown",
   "id": "95338b8a",
   "metadata": {},
   "source": [
    "As we can see there are 134 different categories, so we can not perform One Hot Encoding. We will therefore use Code mapping to transform this variable into a numerical variable."
   ]
  },
  {
   "cell_type": "code",
   "execution_count": 44,
   "id": "6a929be1",
   "metadata": {},
   "outputs": [
    {
     "name": "stdout",
     "output_type": "stream",
     "text": [
      "Type de voie\n",
      "1      1389927\n",
      "0      1357055\n",
      "6       308881\n",
      "2       151665\n",
      "8       133760\n",
      "        ...   \n",
      "101          1\n",
      "104          1\n",
      "111          1\n",
      "118          1\n",
      "131          1\n",
      "Name: count, Length: 135, dtype: int64\n"
     ]
    }
   ],
   "source": [
    "# Create a mapping dictionary for alphanumeric codes\n",
    "code_mapping = {code: i for i, code in enumerate(df['Type de voie'].unique())}\n",
    "\n",
    "# Map the alphanumeric codes to numeric values\n",
    "df['Type de voie'] = df['Type de voie'].map(code_mapping)\n",
    "\n",
    "print(df['Type de voie'].value_counts())"
   ]
  },
  {
   "attachments": {},
   "cell_type": "markdown",
   "id": "10c13ee6",
   "metadata": {},
   "source": [
    "All Good ! let's move to another column !\n",
    "\n",
    "##### Code voie\n",
    "\n",
    "We will delete this column because it contains redundant information with the column \"Type de voie\", and \"Voie\""
   ]
  },
  {
   "cell_type": "code",
   "execution_count": 45,
   "id": "c6394465",
   "metadata": {},
   "outputs": [],
   "source": [
    "# delete this column\n",
    "df = df.drop(['Code voie'], axis=1)"
   ]
  },
  {
   "attachments": {},
   "cell_type": "markdown",
   "id": "1bb05d36",
   "metadata": {},
   "source": [
    "##### Voie\n",
    "\n",
    "For this part, after long relfexion, we have decided to remove the column \"Voie\" because we believe that it is not relevant for our analysis. Indeed we believe that the type of road is more important than the name of the road, and the location of these roads are contained in the 'Postal code' column."
   ]
  },
  {
   "cell_type": "code",
   "execution_count": 46,
   "id": "147e15e3",
   "metadata": {},
   "outputs": [],
   "source": [
    "# remove the 'Voie' column\n",
    "df = df.drop(['Voie'], axis=1)"
   ]
  },
  {
   "attachments": {},
   "cell_type": "markdown",
   "id": "4fada71a",
   "metadata": {},
   "source": [
    "##### Code postal\n",
    "\n",
    "We will keep this column because it seems important in the prediction of the target variable. It is already a numerical column, but there are many missing values. What we chose to do was remove the rows that have missing values for this column.\n"
   ]
  },
  {
   "cell_type": "code",
   "execution_count": 47,
   "id": "f314332c",
   "metadata": {},
   "outputs": [],
   "source": [
    "# remove rows with missing values for the column 'Code postal'\n",
    "df = df.dropna(subset=['Code postal'])"
   ]
  },
  {
   "attachments": {},
   "cell_type": "markdown",
   "id": "70297cd0",
   "metadata": {},
   "source": [
    "##### Lots\n",
    "\n",
    "For these variables, what we chose to do was to replace the missing values by 0. Indeed, if there is no lot, it means that there is no surface area for this lot. We will therefore replace the missing values by 0. Before doing so, let's convert these columns to numerical columns."
   ]
  },
  {
   "cell_type": "code",
   "execution_count": 48,
   "id": "bea226fe",
   "metadata": {},
   "outputs": [],
   "source": [
    "import pandas as pd\n",
    "\n",
    "columns = [\n",
    "    'Surface Carrez du 1er lot',\n",
    "    'Surface Carrez du 2eme lot',\n",
    "    'Surface Carrez du 3eme lot',\n",
    "    'Surface Carrez du 4eme lot',\n",
    "    'Surface Carrez du 5eme lot',\n",
    "    '1er lot',\n",
    "    '2eme lot',\n",
    "    '3eme lot',\n",
    "    '4eme lot',\n",
    "    '5eme lot'\n",
    "]\n",
    "\n",
    "for column in columns:\n",
    "    if df[column].dtype == object:  # Check if the column is of object/string type\n",
    "        df[column] = pd.to_numeric(df[column].str.replace(',', '.'), errors='coerce')"
   ]
  },
  {
   "attachments": {},
   "cell_type": "markdown",
   "id": "5c1753c8",
   "metadata": {},
   "source": [
    "Now we will create a new variable, which will be the sum of all the surfaces of the lots. We will call this variable \"Surface Carrez lots totale\". We will also create a new variable which will be the sum of all the lots. We will call this variable \"Nombre de lots total\".\n"
   ]
  },
  {
   "cell_type": "code",
   "execution_count": 49,
   "id": "bc45d743",
   "metadata": {},
   "outputs": [],
   "source": [
    "# create a new column 'Surface Carrez lots totale'\n",
    "df['Surface Carrez lots totale'] = df['Surface Carrez du 1er lot'] + df['Surface Carrez du 2eme lot'] + df['Surface Carrez du 3eme lot'] + df['Surface Carrez du 4eme lot'] + df['Surface Carrez du 5eme lot']\n",
    "\n",
    "# remove the columns 'Surface Carrez du 1er lot', 'Surface Carrez du 2eme lot', 'Surface Carrez du 3eme lot', 'Surface Carrez du 4eme lot', 'Surface Carrez du 5eme lot'\n",
    "df = df.drop(['Surface Carrez du 1er lot', 'Surface Carrez du 2eme lot', 'Surface Carrez du 3eme lot', 'Surface Carrez du 4eme lot', 'Surface Carrez du 5eme lot'], axis=1)\n",
    "\n",
    "# create a new column 'Nombre de lots totale'\n",
    "df['Nombre de lots totale'] = df['1er lot'] + df['2eme lot'] + df['3eme lot'] + df['4eme lot'] + df['5eme lot']\n",
    "\n",
    "# remove the columns '1er lot', '2eme lot', '3eme lot', '4eme lot', '5eme lot'\n",
    "df = df.drop(['1er lot', '2eme lot', '3eme lot', '4eme lot', '5eme lot'], axis=1)"
   ]
  },
  {
   "attachments": {},
   "cell_type": "markdown",
   "id": "16cf9a00",
   "metadata": {},
   "source": [
    "##### Référence castastre de la parcelle\n",
    "\n",
    "For all 4 variables:\n",
    "- Prefixe de section\n",
    "- Section\n",
    "- Code commune\n",
    "- Code departement\n",
    "- No plan\n",
    "\n",
    "We will delete these columns because we believe that they are not relevant for our analysis. Indeed, we believe that the location of the property is already contained in the 'Postal code' column."
   ]
  },
  {
   "cell_type": "code",
   "execution_count": 50,
   "id": "b537e13c",
   "metadata": {},
   "outputs": [],
   "source": [
    "colums = [\n",
    "    'Prefixe de section',\n",
    "    'Section',\n",
    "    'Code departement',\n",
    "    'Code commune',\n",
    "    'No plan',\n",
    "]\n",
    "\n",
    "for column in colums:\n",
    "    # delete column\n",
    "    df = df.drop([column], axis=1)"
   ]
  },
  {
   "attachments": {},
   "cell_type": "markdown",
   "id": "ec840458",
   "metadata": {},
   "source": [
    "##### No Volume\n",
    "\n",
    "This column corresponds to the division of the space above and below for certain vertical co-ownerships. We will delete this column because we believe that it is not relevant for our analysis."
   ]
  },
  {
   "cell_type": "code",
   "execution_count": 51,
   "id": "0d6c5b89",
   "metadata": {},
   "outputs": [],
   "source": [
    "# delete column 'No Volume'\n",
    "df = df.drop(['No Volume'], axis=1)"
   ]
  },
  {
   "attachments": {},
   "cell_type": "markdown",
   "id": "277be6e6",
   "metadata": {},
   "source": [
    "##### Code type local\n",
    "\n",
    "Same as the previous column, we will delete this column because we believe that it is not relevant for our analysis."
   ]
  },
  {
   "cell_type": "code",
   "execution_count": 52,
   "id": "4d26d2df",
   "metadata": {},
   "outputs": [],
   "source": [
    "# delete column 'Code type local'\n",
    "df = df.drop(['Code type local'], axis=1)"
   ]
  },
  {
   "attachments": {},
   "cell_type": "markdown",
   "id": "d0e59f9b",
   "metadata": {},
   "source": [
    "##### Type local\n",
    "\n",
    "We will keep this column because it seems important in the prediction of the target variable. It is already a categorical column, but there are many missing values. What we chose to do was create a new category called \"Unknown\" for the missing values."
   ]
  },
  {
   "cell_type": "code",
   "execution_count": 53,
   "id": "cf0a2e39",
   "metadata": {},
   "outputs": [],
   "source": [
    "# replace missing values with \"Unknown\"\n",
    "df['Type local'] = df['Type local'].fillna(\"Unknown\")"
   ]
  },
  {
   "attachments": {},
   "cell_type": "markdown",
   "id": "8f26a44d",
   "metadata": {},
   "source": [
    "Let's see the different categories of this variable."
   ]
  },
  {
   "cell_type": "code",
   "execution_count": 54,
   "id": "2397d868",
   "metadata": {},
   "outputs": [
    {
     "name": "stdout",
     "output_type": "stream",
     "text": [
      "Type local\n",
      "Unknown                                     1460712\n",
      "Dépendance                                  1004746\n",
      "Maison                                       631873\n",
      "Appartement                                  524760\n",
      "Local industriel. commercial ou assimilé     117945\n",
      "Name: count, dtype: int64\n"
     ]
    }
   ],
   "source": [
    "# show values of the column 'Type local'\n",
    "print(df['Type local'].value_counts())"
   ]
  },
  {
   "attachments": {},
   "cell_type": "markdown",
   "id": "c92d7732",
   "metadata": {},
   "source": [
    "As we can see there are only 5 different categories, so we can perform One Hot Encoding. We will therefore use One Hot Encoding to transform this variable into a numerical variable."
   ]
  },
  {
   "cell_type": "code",
   "execution_count": 55,
   "id": "4b8219b7",
   "metadata": {},
   "outputs": [],
   "source": [
    "# One Hot Encoding\n",
    "df = pd.get_dummies(df, columns=['Type local'])"
   ]
  },
  {
   "attachments": {},
   "cell_type": "markdown",
   "id": "e14ffc84",
   "metadata": {},
   "source": [
    "##### Surface réelle bati + Surface terrain + Nombre pieces principales\n",
    "\n",
    "We will keep these 3 columns because they seems important in the prediction of the target variable. They are already numerical columns, but there are many missing values. What we chose to do was replace the missing values by 0."
   ]
  },
  {
   "cell_type": "code",
   "execution_count": 56,
   "id": "6b770bff",
   "metadata": {},
   "outputs": [],
   "source": [
    "columns = [\n",
    "    'Surface reelle bati',\n",
    "    'Nombre pieces principales',\n",
    "    'Surface terrain',\n",
    "]\n",
    "\n",
    "for column in columns:\n",
    "\t\tdf[column] = df[column].fillna(0)"
   ]
  },
  {
   "attachments": {},
   "cell_type": "markdown",
   "id": "13ba0045",
   "metadata": {},
   "source": [
    "##### Nature culture + Nature culture speciale\n",
    "\n",
    "These variables are important for our analysis. We will therefore keep them. However, they are categorical variables, so we will have to transform them into numerical variables. First let's see what are the different categories of these variables."
   ]
  },
  {
   "cell_type": "code",
   "execution_count": 57,
   "id": "69d7c080",
   "metadata": {},
   "outputs": [
    {
     "name": "stdout",
     "output_type": "stream",
     "text": [
      "Nature culture\n",
      "S     1285486\n",
      "T      333868\n",
      "P      174587\n",
      "J      133577\n",
      "AB     112710\n",
      "AG     101466\n",
      "BT      98821\n",
      "L       84095\n",
      "VI      37481\n",
      "BR      30452\n",
      "VE      27016\n",
      "BS      15987\n",
      "PA      15373\n",
      "B       11325\n",
      "E        9317\n",
      "BP       8566\n",
      "BF       4855\n",
      "PC       1922\n",
      "PP       1894\n",
      "BM       1353\n",
      "PH       1183\n",
      "CA        629\n",
      "CH        581\n",
      "LB        284\n",
      "PE        179\n",
      "TP         74\n",
      "BO         41\n",
      "Name: count, dtype: int64\n",
      "Nature culture speciale\n",
      "POTAG    37030\n",
      "PARC     16730\n",
      "PATUR    15428\n",
      "PIN      10727\n",
      "FRICH     9149\n",
      "         ...  \n",
      "ROUI         1\n",
      "CERCL        1\n",
      "CRAY         1\n",
      "EAU          1\n",
      "TAMAR        1\n",
      "Name: count, Length: 124, dtype: int64\n"
     ]
    }
   ],
   "source": [
    "# show values of the column 'Nature culture'\n",
    "print(df['Nature culture'].value_counts())\n",
    "\n",
    "# show values of the column 'Nature culture speciale'\n",
    "print(df['Nature culture speciale'].value_counts())"
   ]
  },
  {
   "attachments": {},
   "cell_type": "markdown",
   "id": "9442b2de",
   "metadata": {},
   "source": [
    "As we can see there are multiple categories, so we can not perform One Hot Encoding. We will therefore use Code mapping to transform these variables into a numerical variable."
   ]
  },
  {
   "cell_type": "code",
   "execution_count": 58,
   "id": "d02341db",
   "metadata": {},
   "outputs": [],
   "source": [
    "columns = [\n",
    "    'Nature culture',\n",
    "    'Nature culture speciale',\n",
    "]\n",
    "\n",
    "for column in columns:\n",
    "    # code mapping for alphanumeric codes\n",
    "\t\tcode_mapping = {code: i for i, code in enumerate(df[column].unique())}\n",
    "\t\t# map the alphanumeric codes to numeric values\n",
    "\t\tdf[column] = df[column].map(code_mapping)"
   ]
  },
  {
   "attachments": {},
   "cell_type": "markdown",
   "id": "be9de282",
   "metadata": {},
   "source": [
    "Now that we have no more missing values in our dataframe, let's check each column, and the size of our dataframe.\n"
   ]
  },
  {
   "cell_type": "code",
   "execution_count": 59,
   "id": "7b5f8d23",
   "metadata": {},
   "outputs": [
    {
     "name": "stdout",
     "output_type": "stream",
     "text": [
      "Index(['No disposition', 'Date mutation', 'Nature mutation', 'Valeur fonciere',\n",
      "       'Type de voie', 'Code postal', 'Commune', 'Nombre de lots',\n",
      "       'Surface reelle bati', 'Nombre pieces principales', 'Nature culture',\n",
      "       'Nature culture speciale', 'Surface terrain',\n",
      "       'Surface Carrez lots totale', 'Nombre de lots totale',\n",
      "       'Type local_Appartement', 'Type local_Dépendance',\n",
      "       'Type local_Local industriel. commercial ou assimilé',\n",
      "       'Type local_Maison', 'Type local_Unknown'],\n",
      "      dtype='object')\n",
      "(3740036, 20)\n"
     ]
    }
   ],
   "source": [
    "print(df.columns)\n",
    "print(df.shape)"
   ]
  },
  {
   "attachments": {},
   "cell_type": "markdown",
   "id": "cf4d0093",
   "metadata": {},
   "source": [
    "As we can see there are certain vairables let untouched, let's see what they are.\n",
    "\n",
    "##### No disposition\n",
    "\n",
    "This column corresponds to the number of the disposition. We will delete this column because we believe that it is not relevant for our analysis."
   ]
  },
  {
   "cell_type": "code",
   "execution_count": 60,
   "id": "ef46e51a",
   "metadata": {},
   "outputs": [],
   "source": [
    "# delete the column No disposition\n",
    "df = df.drop(['No disposition'], axis=1)"
   ]
  },
  {
   "attachments": {},
   "cell_type": "markdown",
   "id": "73e58cb4",
   "metadata": {},
   "source": [
    "##### Date mutation\n",
    "\n",
    "This column corresponds to the date of the mutation. We will delete is as well, indeed, because the file already contains data regarding this specific year (2022)."
   ]
  },
  {
   "cell_type": "code",
   "execution_count": 61,
   "id": "45ee43ac",
   "metadata": {},
   "outputs": [],
   "source": [
    "df = df.drop(['Date mutation'], axis=1)"
   ]
  },
  {
   "attachments": {},
   "cell_type": "markdown",
   "id": "961b95fe",
   "metadata": {},
   "source": [
    "\n",
    "##### Nature mutation\n",
    "\n",
    "This column corresponds to the nature of the mutation. We believe these variables to have a great impact on the price of the parcel. Therefore we want to keep it. However it is a text categorical data, so we need to transform it into a numerical data. Let's see what are the different categories of this variable.\n",
    "\n"
   ]
  },
  {
   "cell_type": "code",
   "execution_count": 62,
   "id": "a735611d",
   "metadata": {},
   "outputs": [
    {
     "name": "stdout",
     "output_type": "stream",
     "text": [
      "Nature mutation\n",
      "Vente                                 3498650\n",
      "Vente en l'état futur d'achèvement     192458\n",
      "Echange                                 31667\n",
      "Vente terrain à bâtir                   11743\n",
      "Adjudication                             5235\n",
      "Expropriation                             283\n",
      "Name: count, dtype: int64\n"
     ]
    }
   ],
   "source": [
    "print(df['Nature mutation'].value_counts())"
   ]
  },
  {
   "attachments": {},
   "cell_type": "markdown",
   "id": "26b59c32",
   "metadata": {},
   "source": [
    "As we can see there are multiple categories, so we can not perform One Hot Encoding. We will therefore use Code mapping to transform this variable into a numerical variable."
   ]
  },
  {
   "cell_type": "code",
   "execution_count": 63,
   "id": "72aac5e6",
   "metadata": {},
   "outputs": [],
   "source": [
    "# map variables to numeric values\n",
    "code_mapping = {code: i for i, code in enumerate(df['Nature mutation'].unique())}\n",
    "df['Nature mutation'] = df['Nature mutation'].map(code_mapping)\n"
   ]
  },
  {
   "attachments": {},
   "cell_type": "markdown",
   "id": "f466907d",
   "metadata": {},
   "source": [
    "##### Commune\n",
    "\n",
    "Remove this column because we believe that it is not relevant for our analysis. Indeed, we believe that the location of the property is already contained in the 'Postal code' column."
   ]
  },
  {
   "cell_type": "code",
   "execution_count": 64,
   "id": "7a8a305f",
   "metadata": {},
   "outputs": [],
   "source": [
    "df = df.drop(['Commune'], axis=1)"
   ]
  },
  {
   "attachments": {},
   "cell_type": "markdown",
   "id": "65df8b38",
   "metadata": {},
   "source": [
    "##### Valeur foncière\n",
    "\n",
    "Now we will remove convert the column \"Valeur foncière\" to a numerical column. "
   ]
  },
  {
   "cell_type": "code",
   "execution_count": 65,
   "id": "95ecd6f6",
   "metadata": {},
   "outputs": [],
   "source": [
    "# convert \"Valeur fonciere\" to numeric\n",
    "df['Valeur fonciere'] = df['Valeur fonciere'].str.replace(',', '.')\n",
    "df['Valeur fonciere'] = df['Valeur fonciere'].astype(float)"
   ]
  },
  {
   "attachments": {},
   "cell_type": "markdown",
   "id": "75a048a2",
   "metadata": {},
   "source": [
    "Now that we have a clean dataset, let's save it."
   ]
  },
  {
   "attachments": {},
   "cell_type": "markdown",
   "id": "352fa538",
   "metadata": {},
   "source": [
    "### Step 2.2 - Normalization\n",
    "\n",
    "We decided to normalize all of our variables besides the target variable, and then save them seperately in our files."
   ]
  },
  {
   "cell_type": "code",
   "execution_count": 66,
   "id": "891407d8",
   "metadata": {},
   "outputs": [
    {
     "ename": "TypeError",
     "evalue": "numpy boolean subtract, the `-` operator, is not supported, use the bitwise_xor, the `^` operator, or the logical_xor function instead.",
     "output_type": "error",
     "traceback": [
      "\u001b[0;31m---------------------------------------------------------------------------\u001b[0m",
      "\u001b[0;31mTypeError\u001b[0m                                 Traceback (most recent call last)",
      "File \u001b[0;32m~/Desktop/HousePricing/venv/lib/python3.11/site-packages/pandas/core/ops/array_ops.py:171\u001b[0m, in \u001b[0;36m_na_arithmetic_op\u001b[0;34m(left, right, op, is_cmp)\u001b[0m\n\u001b[1;32m    170\u001b[0m \u001b[39mtry\u001b[39;00m:\n\u001b[0;32m--> 171\u001b[0m     result \u001b[39m=\u001b[39m func(left, right)\n\u001b[1;32m    172\u001b[0m \u001b[39mexcept\u001b[39;00m \u001b[39mTypeError\u001b[39;00m:\n",
      "File \u001b[0;32m~/Desktop/HousePricing/venv/lib/python3.11/site-packages/pandas/core/computation/expressions.py:239\u001b[0m, in \u001b[0;36mevaluate\u001b[0;34m(op, a, b, use_numexpr)\u001b[0m\n\u001b[1;32m    237\u001b[0m     \u001b[39mif\u001b[39;00m use_numexpr:\n\u001b[1;32m    238\u001b[0m         \u001b[39m# error: \"None\" not callable\u001b[39;00m\n\u001b[0;32m--> 239\u001b[0m         \u001b[39mreturn\u001b[39;00m _evaluate(op, op_str, a, b)  \u001b[39m# type: ignore[misc]\u001b[39;00m\n\u001b[1;32m    240\u001b[0m \u001b[39mreturn\u001b[39;00m _evaluate_standard(op, op_str, a, b)\n",
      "File \u001b[0;32m~/Desktop/HousePricing/venv/lib/python3.11/site-packages/pandas/core/computation/expressions.py:70\u001b[0m, in \u001b[0;36m_evaluate_standard\u001b[0;34m(op, op_str, a, b)\u001b[0m\n\u001b[1;32m     69\u001b[0m     _store_test_result(\u001b[39mFalse\u001b[39;00m)\n\u001b[0;32m---> 70\u001b[0m \u001b[39mreturn\u001b[39;00m op(a, b)\n",
      "\u001b[0;31mTypeError\u001b[0m: numpy boolean subtract, the `-` operator, is not supported, use the bitwise_xor, the `^` operator, or the logical_xor function instead.",
      "\nDuring handling of the above exception, another exception occurred:\n",
      "\u001b[0;31mTypeError\u001b[0m                                 Traceback (most recent call last)",
      "Cell \u001b[0;32mIn[66], line 7\u001b[0m\n\u001b[1;32m      4\u001b[0m df \u001b[39m=\u001b[39m df\u001b[39m.\u001b[39mdrop([\u001b[39m'\u001b[39m\u001b[39mValeur fonciere\u001b[39m\u001b[39m'\u001b[39m], axis\u001b[39m=\u001b[39m\u001b[39m1\u001b[39m)\n\u001b[1;32m      6\u001b[0m \u001b[39m# normalize the data\u001b[39;00m\n\u001b[0;32m----> 7\u001b[0m df \u001b[39m=\u001b[39m (df \u001b[39m-\u001b[39;49m df\u001b[39m.\u001b[39;49mmin()) \u001b[39m/\u001b[39m (df\u001b[39m.\u001b[39mmax() \u001b[39m-\u001b[39m df\u001b[39m.\u001b[39mmin())\n\u001b[1;32m     11\u001b[0m \u001b[39m# save the dataset to a new csv file\u001b[39;00m\n\u001b[1;32m     12\u001b[0m df\u001b[39m.\u001b[39mto_csv(\u001b[39m'\u001b[39m\u001b[39mdata/valeursfoncieres-2022.csv\u001b[39m\u001b[39m'\u001b[39m, index\u001b[39m=\u001b[39m\u001b[39mFalse\u001b[39;00m)\n",
      "File \u001b[0;32m~/Desktop/HousePricing/venv/lib/python3.11/site-packages/pandas/core/ops/common.py:81\u001b[0m, in \u001b[0;36m_unpack_zerodim_and_defer.<locals>.new_method\u001b[0;34m(self, other)\u001b[0m\n\u001b[1;32m     77\u001b[0m             \u001b[39mreturn\u001b[39;00m \u001b[39mNotImplemented\u001b[39m\n\u001b[1;32m     79\u001b[0m other \u001b[39m=\u001b[39m item_from_zerodim(other)\n\u001b[0;32m---> 81\u001b[0m \u001b[39mreturn\u001b[39;00m method(\u001b[39mself\u001b[39;49m, other)\n",
      "File \u001b[0;32m~/Desktop/HousePricing/venv/lib/python3.11/site-packages/pandas/core/arraylike.py:194\u001b[0m, in \u001b[0;36mOpsMixin.__sub__\u001b[0;34m(self, other)\u001b[0m\n\u001b[1;32m    192\u001b[0m \u001b[39m@unpack_zerodim_and_defer\u001b[39m(\u001b[39m\"\u001b[39m\u001b[39m__sub__\u001b[39m\u001b[39m\"\u001b[39m)\n\u001b[1;32m    193\u001b[0m \u001b[39mdef\u001b[39;00m \u001b[39m__sub__\u001b[39m(\u001b[39mself\u001b[39m, other):\n\u001b[0;32m--> 194\u001b[0m     \u001b[39mreturn\u001b[39;00m \u001b[39mself\u001b[39;49m\u001b[39m.\u001b[39;49m_arith_method(other, operator\u001b[39m.\u001b[39;49msub)\n",
      "File \u001b[0;32m~/Desktop/HousePricing/venv/lib/python3.11/site-packages/pandas/core/frame.py:7457\u001b[0m, in \u001b[0;36mDataFrame._arith_method\u001b[0;34m(self, other, op)\u001b[0m\n\u001b[1;32m   7453\u001b[0m other \u001b[39m=\u001b[39m ops\u001b[39m.\u001b[39mmaybe_prepare_scalar_for_op(other, (\u001b[39mself\u001b[39m\u001b[39m.\u001b[39mshape[axis],))\n\u001b[1;32m   7455\u001b[0m \u001b[39mself\u001b[39m, other \u001b[39m=\u001b[39m ops\u001b[39m.\u001b[39malign_method_FRAME(\u001b[39mself\u001b[39m, other, axis, flex\u001b[39m=\u001b[39m\u001b[39mTrue\u001b[39;00m, level\u001b[39m=\u001b[39m\u001b[39mNone\u001b[39;00m)\n\u001b[0;32m-> 7457\u001b[0m new_data \u001b[39m=\u001b[39m \u001b[39mself\u001b[39;49m\u001b[39m.\u001b[39;49m_dispatch_frame_op(other, op, axis\u001b[39m=\u001b[39;49maxis)\n\u001b[1;32m   7458\u001b[0m \u001b[39mreturn\u001b[39;00m \u001b[39mself\u001b[39m\u001b[39m.\u001b[39m_construct_result(new_data)\n",
      "File \u001b[0;32m~/Desktop/HousePricing/venv/lib/python3.11/site-packages/pandas/core/frame.py:7496\u001b[0m, in \u001b[0;36mDataFrame._dispatch_frame_op\u001b[0;34m(self, right, func, axis)\u001b[0m\n\u001b[1;32m   7490\u001b[0m     \u001b[39m# TODO: The previous assertion `assert right._indexed_same(self)`\u001b[39;00m\n\u001b[1;32m   7491\u001b[0m     \u001b[39m#  fails in cases with empty columns reached via\u001b[39;00m\n\u001b[1;32m   7492\u001b[0m     \u001b[39m#  _frame_arith_method_with_reindex\u001b[39;00m\n\u001b[1;32m   7493\u001b[0m \n\u001b[1;32m   7494\u001b[0m     \u001b[39m# TODO operate_blockwise expects a manager of the same type\u001b[39;00m\n\u001b[1;32m   7495\u001b[0m     \u001b[39mwith\u001b[39;00m np\u001b[39m.\u001b[39merrstate(\u001b[39mall\u001b[39m\u001b[39m=\u001b[39m\u001b[39m\"\u001b[39m\u001b[39mignore\u001b[39m\u001b[39m\"\u001b[39m):\n\u001b[0;32m-> 7496\u001b[0m         bm \u001b[39m=\u001b[39m \u001b[39mself\u001b[39;49m\u001b[39m.\u001b[39;49m_mgr\u001b[39m.\u001b[39;49moperate_blockwise(\n\u001b[1;32m   7497\u001b[0m             \u001b[39m# error: Argument 1 to \"operate_blockwise\" of \"ArrayManager\" has\u001b[39;49;00m\n\u001b[1;32m   7498\u001b[0m             \u001b[39m# incompatible type \"Union[ArrayManager, BlockManager]\"; expected\u001b[39;49;00m\n\u001b[1;32m   7499\u001b[0m             \u001b[39m# \"ArrayManager\"\u001b[39;49;00m\n\u001b[1;32m   7500\u001b[0m             \u001b[39m# error: Argument 1 to \"operate_blockwise\" of \"BlockManager\" has\u001b[39;49;00m\n\u001b[1;32m   7501\u001b[0m             \u001b[39m# incompatible type \"Union[ArrayManager, BlockManager]\"; expected\u001b[39;49;00m\n\u001b[1;32m   7502\u001b[0m             \u001b[39m# \"BlockManager\"\u001b[39;49;00m\n\u001b[1;32m   7503\u001b[0m             right\u001b[39m.\u001b[39;49m_mgr,  \u001b[39m# type: ignore[arg-type]\u001b[39;49;00m\n\u001b[1;32m   7504\u001b[0m             array_op,\n\u001b[1;32m   7505\u001b[0m         )\n\u001b[1;32m   7506\u001b[0m     \u001b[39mreturn\u001b[39;00m \u001b[39mself\u001b[39m\u001b[39m.\u001b[39m_constructor(bm)\n\u001b[1;32m   7508\u001b[0m \u001b[39melif\u001b[39;00m \u001b[39misinstance\u001b[39m(right, Series) \u001b[39mand\u001b[39;00m axis \u001b[39m==\u001b[39m \u001b[39m1\u001b[39m:\n\u001b[1;32m   7509\u001b[0m     \u001b[39m# axis=1 means we want to operate row-by-row\u001b[39;00m\n",
      "File \u001b[0;32m~/Desktop/HousePricing/venv/lib/python3.11/site-packages/pandas/core/internals/managers.py:1545\u001b[0m, in \u001b[0;36mBlockManager.operate_blockwise\u001b[0;34m(self, other, array_op)\u001b[0m\n\u001b[1;32m   1541\u001b[0m \u001b[39mdef\u001b[39;00m \u001b[39moperate_blockwise\u001b[39m(\u001b[39mself\u001b[39m, other: BlockManager, array_op) \u001b[39m-\u001b[39m\u001b[39m>\u001b[39m BlockManager:\n\u001b[1;32m   1542\u001b[0m \u001b[39m    \u001b[39m\u001b[39m\"\"\"\u001b[39;00m\n\u001b[1;32m   1543\u001b[0m \u001b[39m    Apply array_op blockwise with another (aligned) BlockManager.\u001b[39;00m\n\u001b[1;32m   1544\u001b[0m \u001b[39m    \"\"\"\u001b[39;00m\n\u001b[0;32m-> 1545\u001b[0m     \u001b[39mreturn\u001b[39;00m operate_blockwise(\u001b[39mself\u001b[39;49m, other, array_op)\n",
      "File \u001b[0;32m~/Desktop/HousePricing/venv/lib/python3.11/site-packages/pandas/core/internals/ops.py:63\u001b[0m, in \u001b[0;36moperate_blockwise\u001b[0;34m(left, right, array_op)\u001b[0m\n\u001b[1;32m     61\u001b[0m res_blks: \u001b[39mlist\u001b[39m[Block] \u001b[39m=\u001b[39m []\n\u001b[1;32m     62\u001b[0m \u001b[39mfor\u001b[39;00m lvals, rvals, locs, left_ea, right_ea, rblk \u001b[39min\u001b[39;00m _iter_block_pairs(left, right):\n\u001b[0;32m---> 63\u001b[0m     res_values \u001b[39m=\u001b[39m array_op(lvals, rvals)\n\u001b[1;32m     64\u001b[0m     \u001b[39mif\u001b[39;00m left_ea \u001b[39mand\u001b[39;00m \u001b[39mnot\u001b[39;00m right_ea \u001b[39mand\u001b[39;00m \u001b[39mhasattr\u001b[39m(res_values, \u001b[39m\"\u001b[39m\u001b[39mreshape\u001b[39m\u001b[39m\"\u001b[39m):\n\u001b[1;32m     65\u001b[0m         res_values \u001b[39m=\u001b[39m res_values\u001b[39m.\u001b[39mreshape(\u001b[39m1\u001b[39m, \u001b[39m-\u001b[39m\u001b[39m1\u001b[39m)\n",
      "File \u001b[0;32m~/Desktop/HousePricing/venv/lib/python3.11/site-packages/pandas/core/ops/array_ops.py:232\u001b[0m, in \u001b[0;36marithmetic_op\u001b[0;34m(left, right, op)\u001b[0m\n\u001b[1;32m    228\u001b[0m     _bool_arith_check(op, left, right)\n\u001b[1;32m    230\u001b[0m     \u001b[39m# error: Argument 1 to \"_na_arithmetic_op\" has incompatible type\u001b[39;00m\n\u001b[1;32m    231\u001b[0m     \u001b[39m# \"Union[ExtensionArray, ndarray[Any, Any]]\"; expected \"ndarray[Any, Any]\"\u001b[39;00m\n\u001b[0;32m--> 232\u001b[0m     res_values \u001b[39m=\u001b[39m _na_arithmetic_op(left, right, op)  \u001b[39m# type: ignore[arg-type]\u001b[39;00m\n\u001b[1;32m    234\u001b[0m \u001b[39mreturn\u001b[39;00m res_values\n",
      "File \u001b[0;32m~/Desktop/HousePricing/venv/lib/python3.11/site-packages/pandas/core/ops/array_ops.py:178\u001b[0m, in \u001b[0;36m_na_arithmetic_op\u001b[0;34m(left, right, op, is_cmp)\u001b[0m\n\u001b[1;32m    172\u001b[0m \u001b[39mexcept\u001b[39;00m \u001b[39mTypeError\u001b[39;00m:\n\u001b[1;32m    173\u001b[0m     \u001b[39mif\u001b[39;00m \u001b[39mnot\u001b[39;00m is_cmp \u001b[39mand\u001b[39;00m (is_object_dtype(left\u001b[39m.\u001b[39mdtype) \u001b[39mor\u001b[39;00m is_object_dtype(right)):\n\u001b[1;32m    174\u001b[0m         \u001b[39m# For object dtype, fallback to a masked operation (only operating\u001b[39;00m\n\u001b[1;32m    175\u001b[0m         \u001b[39m#  on the non-missing values)\u001b[39;00m\n\u001b[1;32m    176\u001b[0m         \u001b[39m# Don't do this for comparisons, as that will handle complex numbers\u001b[39;00m\n\u001b[1;32m    177\u001b[0m         \u001b[39m#  incorrectly, see GH#32047\u001b[39;00m\n\u001b[0;32m--> 178\u001b[0m         result \u001b[39m=\u001b[39m _masked_arith_op(left, right, op)\n\u001b[1;32m    179\u001b[0m     \u001b[39melse\u001b[39;00m:\n\u001b[1;32m    180\u001b[0m         \u001b[39mraise\u001b[39;00m\n",
      "File \u001b[0;32m~/Desktop/HousePricing/venv/lib/python3.11/site-packages/pandas/core/ops/array_ops.py:116\u001b[0m, in \u001b[0;36m_masked_arith_op\u001b[0;34m(x, y, op)\u001b[0m\n\u001b[1;32m    114\u001b[0m     \u001b[39m# See GH#5284, GH#5035, GH#19448 for historical reference\u001b[39;00m\n\u001b[1;32m    115\u001b[0m     \u001b[39mif\u001b[39;00m mask\u001b[39m.\u001b[39many():\n\u001b[0;32m--> 116\u001b[0m         result[mask] \u001b[39m=\u001b[39m op(xrav[mask], yrav[mask])\n\u001b[1;32m    118\u001b[0m \u001b[39melse\u001b[39;00m:\n\u001b[1;32m    119\u001b[0m     \u001b[39mif\u001b[39;00m \u001b[39mnot\u001b[39;00m is_scalar(y):\n",
      "\u001b[0;31mTypeError\u001b[0m: numpy boolean subtract, the `-` operator, is not supported, use the bitwise_xor, the `^` operator, or the logical_xor function instead."
     ]
    }
   ],
   "source": [
    "# Convert boolean variables to 0 or 1\n",
    " \n",
    "\n",
    "# save the dataset to a new csv file\n",
    "df[\"Valeur fonciere\"].to_csv('data/valeursfoncieres-2022-target.csv', index=False)\n",
    "\n",
    "df = df.drop(['Valeur fonciere'], axis=1)\n",
    "\n",
    "# normalize the data\n",
    "df = (df - df.min()) / (df.max() - df.min())\n",
    "\n",
    "# save the dataset to a new csv file\n",
    "df.to_csv('data/valeursfoncieres-2022.csv', index=False)\n",
    "\n"
   ]
  },
  {
   "attachments": {},
   "cell_type": "markdown",
   "id": "42c27b62",
   "metadata": {},
   "source": [
    "## All set !\n",
    "\n",
    "Now we can move to the data analysis part."
   ]
  }
 ],
 "metadata": {
  "kernelspec": {
   "display_name": "Python 3 (ipykernel)",
   "language": "python",
   "name": "python3"
  },
  "language_info": {
   "codemirror_mode": {
    "name": "ipython",
    "version": 3
   },
   "file_extension": ".py",
   "mimetype": "text/x-python",
   "name": "python",
   "nbconvert_exporter": "python",
   "pygments_lexer": "ipython3",
   "version": "3.11.2"
  }
 },
 "nbformat": 4,
 "nbformat_minor": 5
}
